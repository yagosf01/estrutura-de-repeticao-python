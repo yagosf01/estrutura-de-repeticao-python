{
  "nbformat": 4,
  "nbformat_minor": 0,
  "metadata": {
    "colab": {
      "provenance": [],
      "include_colab_link": true
    },
    "kernelspec": {
      "name": "python3",
      "display_name": "Python 3"
    }
  },
  "cells": [
    {
      "cell_type": "markdown",
      "metadata": {
        "id": "view-in-github",
        "colab_type": "text"
      },
      "source": [
        "<a href=\"https://colab.research.google.com/github/yagosf01/estrutura-de-repeticao-python/blob/main/Yago_FIgueredo_231_Est_Repeticao_n.ipynb\" target=\"_parent\"><img src=\"https://colab.research.google.com/assets/colab-badge.svg\" alt=\"Open In Colab\"/></a>"
      ]
    },
    {
      "cell_type": "markdown",
      "metadata": {
        "id": "TWJjhvldsGq1"
      },
      "source": [
        "+#ESTRUTURA DE REPETIÇÃO\n",
        "##Todos estes algoritmos/programas podem ser implementados com o comando **while** ou **for**. Para estudar, implemente cada exercício com as **duas** estruturas de repetição."
      ]
    },
    {
      "cell_type": "markdown",
      "metadata": {
        "id": "ra2ortoj88ct"
      },
      "source": [
        "###1. Faça um algoritmo  que mostre 10 vezes a frase “Bem vindo a Fatec!”. Pode implementar com o comando while ou for."
      ]
    },
    {
      "cell_type": "code",
      "metadata": {
        "id": "w87cAtUi9P5j"
      },
      "source": [
        "print('Exemplo do while.............\\n\\n')\n",
        "# 1º passo - inicialização\n",
        "contador = 1\n",
        "# 2º passo - condição/critério de parada\n",
        "while contador <= 5:\n",
        "    print(contador, 'Bem vindo a Fatec!')\n",
        "    contador = contador + 1 # 3º passo - incremento"
      ],
      "execution_count": null,
      "outputs": []
    },
    {
      "cell_type": "code",
      "source": [
        "print('\\n\\nExemplo do for.............\\n')\n",
        "# 1º passo - inicialização, 2º passo - condição/critério de parada\n",
        "# e 3º passo - incremento, numa única linha no for\n",
        "for contador in range(1,5):\n",
        "    print(contador,'Bem vindo a Fatec!')"
      ],
      "metadata": {
        "id": "AfLjZS3G1d3l"
      },
      "execution_count": null,
      "outputs": []
    },
    {
      "cell_type": "markdown",
      "metadata": {
        "id": "Tz26_Q_09QzZ"
      },
      "source": [
        "###2. Faça um algoritmo que mostre o cumprimento ‘Olá ‘ para o nome de alguém (4 pessoas). Exemplo ‘Olá Mariana’. Pode implementar com o comando while ou for.\n",
        " "
      ]
    },
    {
      "cell_type": "code",
      "metadata": {
        "id": "EK8e5Oxn9eFX",
        "colab": {
          "base_uri": "https://localhost:8080/"
        },
        "outputId": "0487c6b8-7c08-48ee-ceac-c03d72b1e918"
      },
      "source": [
        "qtd_pessoas = 0\n",
        "while qtd_pessoas < 4:\n",
        "    nome = input('Insira o nome: ')\n",
        "    print('Ola',nome)\n",
        "    qtd_pessoas += 1 \n",
        "\n",
        "print('\\n')\n",
        "\n",
        "for pessoas in range (0,4):\n",
        "    nomefor = input('Insira o nome: ')\n",
        "    print('Ola',nomefor)\n",
        "    pessoas += 1"
      ],
      "execution_count": null,
      "outputs": [
        {
          "output_type": "stream",
          "name": "stdout",
          "text": [
            "Insira o nome: laura\n",
            "Ola laura\n",
            "Insira o nome: yago\n",
            "Ola yago\n",
            "Insira o nome: clara\n",
            "Ola clara\n",
            "Insira o nome: matheo\n",
            "Ola matheo\n",
            "\n",
            "\n",
            "Insira o nome: vini\n",
            "Ola vini\n",
            "Insira o nome: breno\n",
            "Ola breno\n",
            "Insira o nome: isabelle\n",
            "Ola isabelle\n",
            "Insira o nome: joao\n",
            "Ola joao\n"
          ]
        }
      ]
    },
    {
      "cell_type": "markdown",
      "metadata": {
        "id": "-tIGmOam9eaB"
      },
      "source": [
        "###3. Faça um algoritmo que mostre os valores de 0 a 15. Pode implementar com o comando while ou for.\n"
      ]
    },
    {
      "cell_type": "code",
      "metadata": {
        "id": "PVFy9VEE9jy9",
        "colab": {
          "base_uri": "https://localhost:8080/"
        },
        "outputId": "f4c8f02b-a812-4e10-c47e-7dc4d4204d4b"
      },
      "source": [
        "for i in range (0,16):\n",
        "    print(i)\n",
        "\n",
        "print('\\n')\n",
        "\n",
        "cont = 0\n",
        "\n",
        "while cont < 16:\n",
        "    print(cont)\n",
        "    cont += 1"
      ],
      "execution_count": null,
      "outputs": [
        {
          "output_type": "stream",
          "name": "stdout",
          "text": [
            "0\n",
            "1\n",
            "2\n",
            "3\n",
            "4\n",
            "5\n",
            "6\n",
            "7\n",
            "8\n",
            "9\n",
            "10\n",
            "11\n",
            "12\n",
            "13\n",
            "14\n",
            "15\n",
            "\n",
            "\n",
            "0\n",
            "1\n",
            "2\n",
            "3\n",
            "4\n",
            "5\n",
            "6\n",
            "7\n",
            "8\n",
            "9\n",
            "10\n",
            "11\n",
            "12\n",
            "13\n",
            "14\n",
            "15\n"
          ]
        }
      ]
    },
    {
      "cell_type": "markdown",
      "metadata": {
        "id": "n2GgpaGP9j-A"
      },
      "source": [
        "###4. Faça um algoritmo que mostre os valores de 3 a 20. Pode implementar com o comando while ou for.\n"
      ]
    },
    {
      "cell_type": "code",
      "metadata": {
        "id": "lqitidIO9rOm",
        "colab": {
          "base_uri": "https://localhost:8080/"
        },
        "outputId": "e2dc6736-86ba-4e9c-eca4-6f1f249fb87d"
      },
      "source": [
        "for i in range (3,21):\n",
        "    print(i)\n",
        "\n",
        "print('\\n')\n",
        "\n",
        "cont = 3\n",
        "\n",
        "while cont < 21:\n",
        "    print(cont)\n",
        "    cont += 1"
      ],
      "execution_count": null,
      "outputs": [
        {
          "output_type": "stream",
          "name": "stdout",
          "text": [
            "3\n",
            "4\n",
            "5\n",
            "6\n",
            "7\n",
            "8\n",
            "9\n",
            "10\n",
            "11\n",
            "12\n",
            "13\n",
            "14\n",
            "15\n",
            "16\n",
            "17\n",
            "18\n",
            "19\n",
            "20\n",
            "\n",
            "\n",
            "3\n",
            "4\n",
            "5\n",
            "6\n",
            "7\n",
            "8\n",
            "9\n",
            "10\n",
            "11\n",
            "12\n",
            "13\n",
            "14\n",
            "15\n",
            "16\n",
            "17\n",
            "18\n",
            "19\n",
            "20\n"
          ]
        }
      ]
    },
    {
      "cell_type": "markdown",
      "metadata": {
        "id": "C8RRCFc_9sTL"
      },
      "source": [
        "###5. Faça um algoritmo que calcule e mostre a tabuada do 5. Pode implementar com o comando while ou for.\n"
      ]
    },
    {
      "cell_type": "code",
      "metadata": {
        "id": "4QBLg1ka91dV",
        "colab": {
          "base_uri": "https://localhost:8080/"
        },
        "outputId": "1155857b-e361-4ac7-f426-149063c1286c"
      },
      "source": [
        "for i in range (5,6):\n",
        "    for y in range (0,11):\n",
        "        print(i, 'x', y , '=',i * y)\n",
        "\n",
        "print('\\n')\n",
        "\n",
        "n1 = 5\n",
        "n2 = 0\n",
        "\n",
        "while n2 < 11:\n",
        "    print(n1, 'x' ,n2, '=' ,n1 * n2)\n",
        "    n2 += 1\n"
      ],
      "execution_count": null,
      "outputs": [
        {
          "output_type": "stream",
          "name": "stdout",
          "text": [
            "5 x 0 = 0\n",
            "5 x 1 = 5\n",
            "5 x 2 = 10\n",
            "5 x 3 = 15\n",
            "5 x 4 = 20\n",
            "5 x 5 = 25\n",
            "5 x 6 = 30\n",
            "5 x 7 = 35\n",
            "5 x 8 = 40\n",
            "5 x 9 = 45\n",
            "5 x 10 = 50\n",
            "\n",
            "\n",
            "5 x 0 = 0\n",
            "5 x 1 = 5\n",
            "5 x 2 = 10\n",
            "5 x 3 = 15\n",
            "5 x 4 = 20\n",
            "5 x 5 = 25\n",
            "5 x 6 = 30\n",
            "5 x 7 = 35\n",
            "5 x 8 = 40\n",
            "5 x 9 = 45\n",
            "5 x 10 = 50\n"
          ]
        }
      ]
    },
    {
      "cell_type": "markdown",
      "metadata": {
        "id": "nJv5jBoq91tW"
      },
      "source": [
        "###6. Faça um algoritmo que receba a idade de 10 pessoas, calcule e exiba a quantidade de pessoas maiores de idade, sendo que a maioridade é obtida após completar 18 anos. Pode implementar com o comando while ou for.\n"
      ]
    },
    {
      "cell_type": "code",
      "metadata": {
        "id": "FXOsNMt_96QH",
        "colab": {
          "base_uri": "https://localhost:8080/"
        },
        "outputId": "609ee501-dca5-45ce-e880-bf070073bed4"
      },
      "source": [
        "maiores = 0\n",
        "menores = 0\n",
        "pessoas = 1\n",
        "\n",
        "for i in range (0,4):\n",
        "    idade = int(input('Insira a sua idade: '))\n",
        "    if idade < 18:\n",
        "        menores += 1\n",
        "    else:\n",
        "        maiores += 1\n",
        "    pessoas += 1\n",
        "\n",
        "print('Quantidade de pessoas maiores de idade: ',maiores)\n",
        "print('Quantidade de pessoas maiores de idade: ',menores)\n",
        "\n",
        "print('\\n')\n",
        "\n",
        "maior = 0\n",
        "menor = 0\n",
        "i = 1\n",
        "\n",
        "while i <= 4:\n",
        "    idadewhile = int(input('Insira a sua idade: '))\n",
        "    if idadewhile < 18:\n",
        "        menor += 1\n",
        "    elif idadewhile >= 18:\n",
        "        maior += 1\n",
        "    p += 1\n",
        "\n",
        "print('Quantidade de pessoas maiores de idade: ',maior)\n",
        "print('Quantidade de pessoas maiores de idade: ',menor)\n"
      ],
      "execution_count": null,
      "outputs": [
        {
          "output_type": "stream",
          "name": "stdout",
          "text": [
            "Insira a sua idade: 19\n",
            "Insira a sua idade: 17\n",
            "Insira a sua idade: 15\n",
            "Insira a sua idade: 18\n",
            "Quantidade de pessoas maiores de idade:  2\n",
            "Quantidade de pessoas maiores de idade:  2\n",
            "\n",
            "\n",
            "Insira a sua idade: 22\n",
            "Insira a sua idade: 26\n",
            "Insira a sua idade: 19\n",
            "Insira a sua idade: 7\n",
            "Quantidade de pessoas maiores de idade:  3\n",
            "Quantidade de pessoas maiores de idade:  1\n"
          ]
        }
      ]
    },
    {
      "cell_type": "markdown",
      "metadata": {
        "id": "g5RA7KN896ep"
      },
      "source": [
        "###7. Escreva um algoritmo que receba 23 números, calcule e exiba a quantidade de números pares e impares. Pode implementar com o comando while ou for.\n"
      ]
    },
    {
      "cell_type": "code",
      "metadata": {
        "id": "JBnJiugI9_Q1",
        "colab": {
          "base_uri": "https://localhost:8080/"
        },
        "outputId": "f6a7b708-f22b-4db2-f35b-ca18fb96e2e4"
      },
      "source": [
        "pares = 0\n",
        "impares = 0\n",
        "\n",
        "for i in range (0,5):\n",
        "    numero = int(input('Insira o número: '))\n",
        "    if numero % 2 == 0:\n",
        "        pares += 1\n",
        "    else:\n",
        "        impares += 1\n",
        "print('Quantidade de número pares: ',pares)\n",
        "print('Quantidade de número imapares: ',impares)\n",
        "\n",
        "print('\\n')\n",
        "\n",
        "par = 0\n",
        "impar = 0\n",
        "i = 1\n",
        "\n",
        "while i < 5:\n",
        "    numerowhile = int(input('Insira o seu número: '))\n",
        "    if numerowhile % 2 == 0:\n",
        "        par += 1\n",
        "    else:\n",
        "        impar += 1\n",
        "    qtd_n += 1\n",
        "print('Quantidade de número pares: ',par)\n",
        "print('Quantidade de número pares: ',impar)"
      ],
      "execution_count": null,
      "outputs": [
        {
          "output_type": "stream",
          "name": "stdout",
          "text": [
            "Insira o número: 8\n",
            "Insira o número: 7\n",
            "Insira o número: 6\n",
            "Insira o número: 5\n",
            "Insira o número: 4\n",
            "Quantidade de número pares:  3\n",
            "Quantidade de número imapares:  2\n",
            "\n",
            "\n",
            "Insira o seu número: 2\n",
            "Insira o seu número: 4\n",
            "Insira o seu número: 65\n",
            "Insira o seu número: 1\n",
            "Quantidade de número pares:  2\n",
            "Quantidade de número pares:  2\n"
          ]
        }
      ]
    },
    {
      "cell_type": "markdown",
      "metadata": {
        "id": "DVuRwa6J9_in"
      },
      "source": [
        "###8. Faça um algoritmo que calcule e exiba o salário reajustado de dez funcionários de acordo com a seguinte regra (pode implementar com o comando while ou for): \n",
        "## Salário até 300, reajuste de 50%; \n",
        "\n",
        "##Salários maiores que 300, reajuste de 30%.\n",
        "\n",
        "\n"
      ]
    },
    {
      "cell_type": "code",
      "metadata": {
        "id": "GnYXpwwH-Drd",
        "colab": {
          "base_uri": "https://localhost:8080/"
        },
        "outputId": "d5b696f7-b435-46ba-e9bd-e68715fb0ed5"
      },
      "source": [
        "for i in range (0,4):\n",
        "    salario = float(input('Insira o seu salário: '))\n",
        "    if salario <= 300:\n",
        "        reajuste = salario * 50 / 100\n",
        "        salarionovo = salario + reajuste\n",
        "        print('Seu salario é: ',salarionovo)\n",
        "    elif salario > 300:\n",
        "        reajuste = salario * 30 / 100\n",
        "        salarionovo = salario + reajuste\n",
        "        print('Seu salario é: ',salarionovo)\n",
        "\n",
        "cont_salarios = 0\n",
        "\n",
        "while cont_salarios < 4:\n",
        "    salario = float\n"
      ],
      "execution_count": null,
      "outputs": [
        {
          "output_type": "stream",
          "name": "stdout",
          "text": [
            "Insira o seu salário: 5000\n",
            "Seu salario é:  6500.0\n",
            "Insira o seu salário: 200\n",
            "Seu salario é:  300.0\n",
            "Insira o seu salário: 500\n",
            "Seu salario é:  650.0\n",
            "Insira o seu salário: 1000\n",
            "Seu salario é:  1300.0\n"
          ]
        }
      ]
    },
    {
      "cell_type": "markdown",
      "metadata": {
        "id": "WWEunLW8-D2h"
      },
      "source": [
        "\n",
        "###9. Faça um algoritmo que conheça 4 preços de produtos, some-os e mostre o resultado. Pode implementar com o comando while ou for.\n"
      ]
    },
    {
      "cell_type": "code",
      "metadata": {
        "id": "N9cUIxJk-HLg",
        "colab": {
          "base_uri": "https://localhost:8080/"
        },
        "outputId": "ac8c87fc-6730-4b1f-e1d8-ab4c8dccf235"
      },
      "source": [
        "somapreco = 0\n",
        "for i in range (0,4):\n",
        "    preco = float(input('Insira o preço: '))\n",
        "    somapreco = somapreco + preco\n",
        "print('A soma dos produtos é: ',somapreco)\n",
        "\n",
        "print('\\n')\n",
        "\n",
        "cont_preco = 0\n",
        "i = 0\n",
        "\n",
        "while i < 4:\n",
        "    precowhile = float(input('Insira o preço: '))\n",
        "    cont_preco = cont_preco + precowhile\n",
        "    cont += 1\n",
        "print('A soma dos produtos: ',cont_preco)\n",
        "\n",
        "\n",
        "\n",
        "\n"
      ],
      "execution_count": null,
      "outputs": [
        {
          "output_type": "stream",
          "name": "stdout",
          "text": [
            "Insira o preço: 8\n",
            "Insira o preço: 5\n",
            "Insira o preço: 4\n",
            "Insira o preço: 3\n",
            "A soma dos produtos é:  20.0\n",
            "\n",
            "\n",
            "Insira o preço: 4\n",
            "Insira o preço: 5\n",
            "Insira o preço: 9\n",
            "Insira o preço: 4\n",
            "A soma dos produtos:  22.0\n"
          ]
        }
      ]
    },
    {
      "cell_type": "markdown",
      "metadata": {
        "id": "rf_lUW8J-HbR"
      },
      "source": [
        "###10. Faça um algoritmo que calcule e informe a média de idades de 5 alunos. Pode implementar com o comando while ou for."
      ]
    },
    {
      "cell_type": "code",
      "metadata": {
        "id": "kIGzHgii-Teb",
        "colab": {
          "base_uri": "https://localhost:8080/"
        },
        "outputId": "b196f058-08d4-4be1-b0e3-6114c195408e"
      },
      "source": [
        "somaidade = 0\n",
        "for i in range (0,5):\n",
        "    idade = float(input('Insira o a sua nota: '))\n",
        "    somaidade = somaidade + idade\n",
        "mediaI = somaidade / 5\n",
        "print('A media doas idades: ',mediaI)\n",
        "\n",
        "print('\\n')\n",
        "\n",
        "cont_idade = 0\n",
        "i = 1\n",
        "\n",
        "while i <= 5:\n",
        "    idade = float(input('Insira a sua idade: '))\n",
        "    cont_idade = cont_idade + idade\n",
        "    i += 1\n",
        "media = cont_idade / 5\n",
        "print('A media de idades: ',media)"
      ],
      "execution_count": null,
      "outputs": [
        {
          "output_type": "stream",
          "name": "stdout",
          "text": [
            "Insira o a sua nota: 5\n",
            "Insira o a sua nota: 4\n",
            "Insira o a sua nota: 6\n",
            "Insira o a sua nota: 2\n",
            "Insira o a sua nota: 1\n",
            "A media doas idades:  3.6\n",
            "\n",
            "\n",
            "Insira a sua idade: 7\n",
            "Insira a sua idade: 8\n",
            "Insira a sua idade: 6\n",
            "Insira a sua idade: 3\n",
            "Insira a sua idade: 5\n",
            "A media de idades:  5.8\n"
          ]
        }
      ]
    },
    {
      "cell_type": "markdown",
      "metadata": {
        "id": "cTQOtgv8-TqZ"
      },
      "source": [
        "###11. Faça um algoritmo que conheça 4 preços de produtos, calcule e mostre a média aritmética dos preços. Pode implementar com o comando while ou for.\n"
      ]
    },
    {
      "cell_type": "code",
      "metadata": {
        "id": "1jGiDIq--XfE",
        "colab": {
          "base_uri": "https://localhost:8080/"
        },
        "outputId": "74afc3eb-b2d5-418d-a785-8847c144753a"
      },
      "source": [
        "\n",
        "somaprod = 0\n",
        "for i in range (0,4):\n",
        "    preco = float(input('Insira o preço do seu produto: '))\n",
        "    somaprod += preco\n",
        "media = somaprod / 4\n",
        "print('A media dos preços: ',media)\n",
        "\n",
        "print('\\n')\n",
        "\n",
        "i = 0\n",
        "cont_prod = 0\n",
        "\n",
        "while i < 4:\n",
        "    preco = float(input('Insira o preço do seu produto: ')) \n",
        "    cont_prod += preco\n",
        "    i += 1\n",
        "media = cont_prod / 4\n",
        "print('A media dos preços: ',media)"
      ],
      "execution_count": null,
      "outputs": [
        {
          "output_type": "stream",
          "name": "stdout",
          "text": [
            "Insira o preço do seu produto: 50\n",
            "Insira o preço do seu produto: 40\n",
            "Insira o preço do seu produto: 70\n",
            "Insira o preço do seu produto: 60\n",
            "A media dos preços:  55.0\n",
            "\n",
            "\n",
            "Insira o preço do seu produto: 80\n",
            "Insira o preço do seu produto: 40\n",
            "Insira o preço do seu produto: 50\n",
            "Insira o preço do seu produto: 50\n",
            "A media dos preços:  55.0\n"
          ]
        }
      ]
    },
    {
      "cell_type": "markdown",
      "source": [
        "###12. Faça um programa que receba a idade e a altura de 20 pessoas. Calcule e exiba a média das alturas das pessoas com mais de 20 anos.\n",
        "\n",
        "\n"
      ],
      "metadata": {
        "id": "q2aJm6ktRIKX"
      }
    },
    {
      "cell_type": "code",
      "source": [
        "soma_alturas = 0\n",
        "num_pessoas_maior_20 = 0\n",
        "\n",
        "\n",
        "for i in range(5):\n",
        "    # input interessante para utilizar\n",
        "    idade = int(input(\"Digite a idade da pessoa {}: \".format(i+1)))\n",
        "    altura = float(input(\"Digite a altura da pessoa {}: \".format(i+1)))\n",
        "\n",
        "    \n",
        "    if idade > 20:\n",
        "        soma_alturas += altura\n",
        "        num_pessoas_maior_20 += 1\n",
        "\n",
        "\n",
        "if num_pessoas_maior_20 > 0:\n",
        "    media = soma_alturas / num_pessoas_maior_20\n",
        "    print(\"A média das alturas das pessoas com mais de 20 anos é: {:.2f}\".format(media))\n",
        "else:\n",
        "    print(\"Não há pessoas com mais de 20 anos.\")\n"
      ],
      "metadata": {
        "colab": {
          "base_uri": "https://localhost:8080/"
        },
        "id": "dNMIDICWM7cJ",
        "outputId": "20b41dea-2684-4f39-f202-c5b5450dcefb"
      },
      "execution_count": null,
      "outputs": [
        {
          "output_type": "stream",
          "name": "stdout",
          "text": [
            "Digite a idade da pessoa 1: 80\n",
            "Digite a altura da pessoa 1: 50\n",
            "Digite a idade da pessoa 2: 40\n",
            "Digite a altura da pessoa 2: 90\n",
            "Digite a idade da pessoa 3: 50\n",
            "Digite a altura da pessoa 3: 40\n",
            "Digite a idade da pessoa 4: 80\n",
            "Digite a altura da pessoa 4: 60\n",
            "Digite a idade da pessoa 5: 40\n",
            "Digite a altura da pessoa 5: 50\n",
            "A média das alturas das pessoas com mais de 20 anos é: 58.00\n"
          ]
        }
      ]
    },
    {
      "cell_type": "code",
      "source": [
        "cont_pessoas = 0\n",
        "cont_altura = 0\n",
        "\n",
        "for i in range (0,5):\n",
        "    idade = int(input('Insira a sua idade: '))\n",
        "    altura = float(input('Insira a sua altura: '))\n",
        "    \n",
        "    if idade > 20:\n",
        "        cont_altura += altura\n",
        "        cont_pessoas += 1\n",
        "if cont_pessoas > 0:\n",
        "    media_altura = cont_altura / cont_pessoas\n",
        "    print('A media das pessoas com mais de 20 anos é: ',media_altura) \n",
        "else:\n",
        "    print('Não há pessoas com mais de 20 anos')\n",
        "\n",
        " \n"
      ],
      "metadata": {
        "id": "BrL7c0SiReMX",
        "colab": {
          "base_uri": "https://localhost:8080/"
        },
        "outputId": "679a3065-2363-4d34-c69c-e47cb7fb6dda"
      },
      "execution_count": null,
      "outputs": [
        {
          "output_type": "stream",
          "name": "stdout",
          "text": [
            "Insira a sua idade: 80\n",
            "Insira a sua altura: 40\n",
            "Insira a sua idade: 60\n",
            "Insira a sua altura: 50\n",
            "Insira a sua idade: 40\n",
            "Insira a sua altura: 30\n",
            "Insira a sua idade: 50\n",
            "Insira a sua altura: 80\n",
            "Insira a sua idade: 40\n",
            "Insira a sua altura: 60\n",
            "A media das pessoas com mais de 20 anos é:  52.0\n"
          ]
        }
      ]
    },
    {
      "cell_type": "code",
      "source": [
        "cont_pessoas = 0\n",
        "cont_altura = 0\n",
        "i = 0\n",
        "\n",
        "while i < 4:\n",
        "    idade = int(input('Insira a sua idade: '))\n",
        "    altura = float(input('Insira a sua altura: '))\n",
        "    i += 1\n",
        "\n",
        "    if idade > 20:\n",
        "        cont_altura += altura\n",
        "        cont_pessoas += 1\n",
        "if cont_pessoas > 0:\n",
        "    media = cont_altura / cont_pessoas\n",
        "    print('A media das pesssoas com mais de 20 anos é: ',media)\n",
        "else:\n",
        "    print('Não há pessoas com mais de 20 anos')"
      ],
      "metadata": {
        "colab": {
          "base_uri": "https://localhost:8080/"
        },
        "id": "W34lcXOfTv08",
        "outputId": "1fee194b-32f4-41ab-d4ad-d9f6c7bc4cff"
      },
      "execution_count": null,
      "outputs": [
        {
          "output_type": "stream",
          "name": "stdout",
          "text": [
            "Insira a sua idade: 70\n",
            "Insira a sua altura: 50\n",
            "Insira a sua idade: 60\n",
            "Insira a sua altura: 80\n",
            "Insira a sua idade: 40\n",
            "Insira a sua altura: 50\n",
            "Insira a sua idade: 40\n",
            "Insira a sua altura: 60\n",
            "A media das pesssoas com mais de 20 anos é:  60.0\n"
          ]
        }
      ]
    },
    {
      "cell_type": "markdown",
      "metadata": {
        "id": "aI4IjOYw-XwG"
      },
      "source": [
        "###13. Faça um algoritmo que leia o preço de 20 TV, determine e apresente a média dos preços que possuem valor maior que R$ 1000. Pode implementar com o comando while ou for."
      ]
    },
    {
      "cell_type": "code",
      "source": [
        "cont_preco = 0 \n",
        "cont_tv = 0\n",
        "\n",
        "for i in range (0,3):\n",
        "    preco = float(input('Insira o preço das televisões: '))\n",
        "\n",
        "    if preco > 1000:\n",
        "        cont_preco += preco\n",
        "        cont_tv += 1\n",
        "if cont_tv > 0:\n",
        "    media = cont_preco / cont_tv\n",
        "    print('A media das televisões acima de R$1000,00 são: ',media)\n",
        "else:\n",
        "    print('Não há televisões acima de R$1000,00.')"
      ],
      "metadata": {
        "id": "0YxUWj8KQriq",
        "colab": {
          "base_uri": "https://localhost:8080/"
        },
        "outputId": "9fd4b4a9-9407-4b12-ac85-9ba64cf00bf0"
      },
      "execution_count": null,
      "outputs": [
        {
          "output_type": "stream",
          "name": "stdout",
          "text": [
            "Insira o preço das televisões: 4000\n",
            "Insira o preço das televisões: 3000\n",
            "Insira o preço das televisões: 2000\n",
            "A media das televisões acima de R$1000,00 são:  3000.0\n"
          ]
        }
      ]
    },
    {
      "cell_type": "code",
      "source": [
        "cont_preco = 0\n",
        "cont_tv = 0\n",
        "i = 0\n",
        "while i < 3:\n",
        "    preco = float(input(\"Insira o preço das televisões: \"))\n",
        "    i += 1\n",
        "\n",
        "    if preco > 1000:\n",
        "        cont_preco += preco\n",
        "        cont_tv += 1\n",
        "if cont_tv > 0:\n",
        "    media = cont_preco / cont_tv\n",
        "    print('A media das televisões acima de R$1000,00 são: ',media)\n",
        "else:\n",
        "    print('Não há televisões acima de R$1000,00.')"
      ],
      "metadata": {
        "id": "JuH3zKc65Fds",
        "colab": {
          "base_uri": "https://localhost:8080/"
        },
        "outputId": "e0d63973-d179-46eb-97ba-6a7fe98bc3f9"
      },
      "execution_count": null,
      "outputs": [
        {
          "output_type": "stream",
          "name": "stdout",
          "text": [
            "Insira o preço das televisões: 50\n",
            "Insira o preço das televisões: 400\n",
            "Insira o preço das televisões: 10000\n",
            "A media das televisões acima de R$1000,00 são:  10000.0\n"
          ]
        }
      ]
    },
    {
      "cell_type": "markdown",
      "source": [
        "###14. Faça um programa que receba a altura e nome  de 5 pessoas. Encontre e apresente a altura da pessoa mais alta e da mais baixa e seus respectivos nomes."
      ],
      "metadata": {
        "id": "AvMp2ZGF5sBk"
      }
    },
    {
      "cell_type": "code",
      "source": [
        "alturaMax = 0\n",
        "nomeAlturaMax = \"\"\n",
        "alturaMin = float(\"inf\")\n",
        "nomeAlturaMin = \"\"\n",
        "\n",
        "for i in range(0,2):\n",
        "    nome = input('Insira o nome: ')\n",
        "    altura = float(input('Insira a sua altura: '))\n",
        "\n",
        "    if altura > alturaMax:\n",
        "        alturaMax = altura\n",
        "        nomeAlturaMax = nome\n",
        "    elif altura < alturaMin:\n",
        "        alturaMin = altura\n",
        "        nomeAlturaMin = nome\n",
        "print('A maior altura é: ',nomeAlturaMax)\n",
        "print('A menor altura é: ',nomeAlturaMin)\n"
      ],
      "metadata": {
        "id": "HUkicD3g6CX4",
        "colab": {
          "base_uri": "https://localhost:8080/"
        },
        "outputId": "3ad15c9b-3d44-4a56-9e8a-bc3506f94da6"
      },
      "execution_count": null,
      "outputs": [
        {
          "output_type": "stream",
          "name": "stdout",
          "text": [
            "Insira o nome: yago\n",
            "Insira a sua altura: 700\n",
            "Insira o nome: laura\n",
            "Insira a sua altura: 100\n",
            "A maior altura é:  yago\n",
            "A menor altura é:  laura\n"
          ]
        }
      ]
    },
    {
      "cell_type": "code",
      "source": [
        "alturaMax = 0\n",
        "nomeAlturaMax = \"\"\n",
        "alturaMin = 3\n",
        "nomeAlturaMin = \"\"\n",
        "i = 0\n",
        "\n",
        "while i < 2:\n",
        "    nome = input('Insira o seu nome: ')\n",
        "    altura = float(input('Insira a sua altura: '))\n",
        "    i += 1\n",
        "\n",
        "    if altura > alturaMax:\n",
        "        alturaMax = altura\n",
        "        nomeAlturaMax = nome\n",
        "    if altura < alturaMin:\n",
        "        alturaMin = altura\n",
        "        nomeAlturaMin = nome\n",
        "print('A maior altura pertence à: ',nomeAlturaMax)\n",
        "print('A menor altura pertence à: ',nomeAlturaMin)\n"
      ],
      "metadata": {
        "colab": {
          "base_uri": "https://localhost:8080/"
        },
        "id": "FEtGJfFcXA7d",
        "outputId": "3f178d6f-91c4-4349-b784-e97554b450ed"
      },
      "execution_count": null,
      "outputs": [
        {
          "output_type": "stream",
          "name": "stdout",
          "text": [
            "Insira o seu nome: ff\n",
            "Insira a sua altura: 1.80\n",
            "Insira o seu nome: cc\n",
            "Insira a sua altura: 1.50\n",
            "A maior altura pertence à:  ff\n",
            "A menor altura pertence à:  cc\n"
          ]
        }
      ]
    },
    {
      "cell_type": "code",
      "source": [
        "qpessoas = 0\n",
        "while qpessoas < 5:\n",
        "    altura = float(input('Informe a altura: '))\n",
        "    nome = input('Informe o nome: ')\n",
        "    if qpessoas == 0:\n",
        "        alto = altura\n",
        "        nome_alto = nome\n",
        "        baixo = altura\n",
        "        nome_baixo = nome\n",
        "    if altura > alto:\n",
        "        alto = altura\n",
        "        nome_alto = nome\n",
        "    if altura < baixo:\n",
        "        baixo = altura\n",
        "        nome_baixo = nome\n",
        "    qpessoas = qpessoas + 1\n",
        "print('Alto= ', alto, 'metros, nome= ',nome_alto)\n",
        "print('Baixo= ', baixo, 'metros, nome= ', nome_baixo)"
      ],
      "metadata": {
        "id": "92EVx6qyY3F5"
      },
      "execution_count": null,
      "outputs": []
    },
    {
      "cell_type": "markdown",
      "source": [
        "###15. Faça um programa que receba dez valores inteiros, encontre e apresente o maior e o menor valor.\n",
        "\n"
      ],
      "metadata": {
        "id": "8KWL51p-6Ckk"
      }
    },
    {
      "cell_type": "code",
      "source": [
        "qnumeros = 0\n",
        "while qnumeros < 4:\n",
        "    valor = int(input('Insira o seu valor: '))\n",
        "    if qnumeros == 0:\n",
        "        maior = valor\n",
        "        menor = valor\n",
        "    if valor > maior:\n",
        "        maior = valor\n",
        "    if valor < menor:\n",
        "        menor = valor\n",
        "    qnumeros = qnumeros + 1\n",
        "print('Maior: ',maior)\n",
        "print('Menor: ',menor)\n",
        "    \n",
        "\n"
      ],
      "metadata": {
        "id": "D48xIbyn6aDH",
        "colab": {
          "base_uri": "https://localhost:8080/"
        },
        "outputId": "d26349f7-a4e6-4c7d-e7f8-adb89c090fbf"
      },
      "execution_count": null,
      "outputs": [
        {
          "output_type": "stream",
          "name": "stdout",
          "text": [
            "Insira o seu valor: 7\n",
            "Insira o seu valor: 5\n",
            "Insira o seu valor: 5\n",
            "Insira o seu valor: 6\n",
            "Maior:  7\n",
            "Menor:  5\n"
          ]
        }
      ]
    },
    {
      "cell_type": "markdown",
      "source": [
        "###16. Os alunos do primeiro módulo farão a P1 da disciplina de Algoritmo. Crie um algoritmo que leia as 40 notas e RAs, encontre e apresente a maior, a menor e os respectivos RAs desses alunos."
      ],
      "metadata": {
        "id": "7ykHS3fC6e1z"
      }
    },
    {
      "cell_type": "code",
      "source": [
        "qnotas = 0\n",
        "while qnotas < 4:\n",
        "    nota = float(input('Insira a sua nota: '))\n",
        "    ra = int(input('Insira o seu RA: '))\n",
        "    if qnotas == 0:\n",
        "        maior = nota\n",
        "        raMaior = ra\n",
        "        menor = nota\n",
        "        raMenor = ra\n",
        "    if nota > maior:\n",
        "        maior = nota\n",
        "        raMaior = ra\n",
        "    if nota < menor:\n",
        "        menor = nota\n",
        "        raMenor = ra\n",
        "    qnotas += 1\n",
        "print('Maior nota: ',maior,'RA: ',raMaior)\n",
        "print('Menor nota: ',menor,'RA: ',raMenor)"
      ],
      "metadata": {
        "id": "yU4vMIRs7BPK",
        "colab": {
          "base_uri": "https://localhost:8080/"
        },
        "outputId": "cad13652-7135-496c-c77a-b3ceee0672d8"
      },
      "execution_count": null,
      "outputs": [
        {
          "output_type": "stream",
          "name": "stdout",
          "text": [
            "Insira a sua nota: 7\n",
            "Insira o seu RA: 654654\n",
            "Insira a sua nota: 2\n",
            "Insira o seu RA: 564654\n",
            "Insira a sua nota: 9\n",
            "Insira o seu RA: 32131\n",
            "Insira a sua nota: 8\n",
            "Insira o seu RA: 456456\n",
            "Maior nota:  9.0 RA:  32131\n",
            "Menor nota:  2.0 RA:  564654\n"
          ]
        }
      ]
    },
    {
      "cell_type": "markdown",
      "source": [
        "###17. Faça um programa que calcule e apresente as tabuadas do 3 ao 7. Este exercício utiliza DUAS estruturas de repetição."
      ],
      "metadata": {
        "id": "wJ0MVHDlQrNb"
      }
    },
    {
      "cell_type": "code",
      "source": [
        "tabuada = 3\n",
        "while tabuada <= 7:\n",
        "    contador = 1\n",
        "    while contador <= 10:\n",
        "        print(tabuada,'x',contador,'=',tabuada * contador)\n",
        "        contador += 1\n",
        "    print()\n",
        "    tabuada += 1\n"
      ],
      "metadata": {
        "colab": {
          "base_uri": "https://localhost:8080/"
        },
        "id": "NgLjHSg4dhvK",
        "outputId": "e16f7eaf-c150-4e10-a7bf-442d5f1ad77b"
      },
      "execution_count": null,
      "outputs": [
        {
          "output_type": "stream",
          "name": "stdout",
          "text": [
            "3 x 1 = 3\n",
            "3 x 2 = 6\n",
            "3 x 3 = 9\n",
            "3 x 4 = 12\n",
            "3 x 5 = 15\n",
            "3 x 6 = 18\n",
            "3 x 7 = 21\n",
            "3 x 8 = 24\n",
            "3 x 9 = 27\n",
            "3 x 10 = 30\n",
            "\n",
            "4 x 1 = 4\n",
            "4 x 2 = 8\n",
            "4 x 3 = 12\n",
            "4 x 4 = 16\n",
            "4 x 5 = 20\n",
            "4 x 6 = 24\n",
            "4 x 7 = 28\n",
            "4 x 8 = 32\n",
            "4 x 9 = 36\n",
            "4 x 10 = 40\n",
            "\n",
            "5 x 1 = 5\n",
            "5 x 2 = 10\n",
            "5 x 3 = 15\n",
            "5 x 4 = 20\n",
            "5 x 5 = 25\n",
            "5 x 6 = 30\n",
            "5 x 7 = 35\n",
            "5 x 8 = 40\n",
            "5 x 9 = 45\n",
            "5 x 10 = 50\n",
            "\n",
            "6 x 1 = 6\n",
            "6 x 2 = 12\n",
            "6 x 3 = 18\n",
            "6 x 4 = 24\n",
            "6 x 5 = 30\n",
            "6 x 6 = 36\n",
            "6 x 7 = 42\n",
            "6 x 8 = 48\n",
            "6 x 9 = 54\n",
            "6 x 10 = 60\n",
            "\n",
            "7 x 1 = 7\n",
            "7 x 2 = 14\n",
            "7 x 3 = 21\n",
            "7 x 4 = 28\n",
            "7 x 5 = 35\n",
            "7 x 6 = 42\n",
            "7 x 7 = 49\n",
            "7 x 8 = 56\n",
            "7 x 9 = 63\n",
            "7 x 10 = 70\n",
            "\n"
          ]
        }
      ]
    },
    {
      "cell_type": "code",
      "source": [
        "for tabuada in range(3,8):\n",
        "    for contador in range(1,11):\n",
        "        print(tabuada,'x',contador,'=',tabuada * contador)\n",
        "    print() #pula uma linha\n"
      ],
      "metadata": {
        "id": "0ZBwoW881MU7",
        "colab": {
          "base_uri": "https://localhost:8080/"
        },
        "outputId": "465ddb57-15d0-4afb-8b3a-4e5674422090"
      },
      "execution_count": null,
      "outputs": [
        {
          "output_type": "stream",
          "name": "stdout",
          "text": [
            "3 x 1 = 3\n",
            "3 x 2 = 6\n",
            "3 x 3 = 9\n",
            "3 x 4 = 12\n",
            "3 x 5 = 15\n",
            "3 x 6 = 18\n",
            "3 x 7 = 21\n",
            "3 x 8 = 24\n",
            "3 x 9 = 27\n",
            "3 x 10 = 30\n",
            "\n",
            "4 x 1 = 4\n",
            "4 x 2 = 8\n",
            "4 x 3 = 12\n",
            "4 x 4 = 16\n",
            "4 x 5 = 20\n",
            "4 x 6 = 24\n",
            "4 x 7 = 28\n",
            "4 x 8 = 32\n",
            "4 x 9 = 36\n",
            "4 x 10 = 40\n",
            "\n",
            "5 x 1 = 5\n",
            "5 x 2 = 10\n",
            "5 x 3 = 15\n",
            "5 x 4 = 20\n",
            "5 x 5 = 25\n",
            "5 x 6 = 30\n",
            "5 x 7 = 35\n",
            "5 x 8 = 40\n",
            "5 x 9 = 45\n",
            "5 x 10 = 50\n",
            "\n",
            "6 x 1 = 6\n",
            "6 x 2 = 12\n",
            "6 x 3 = 18\n",
            "6 x 4 = 24\n",
            "6 x 5 = 30\n",
            "6 x 6 = 36\n",
            "6 x 7 = 42\n",
            "6 x 8 = 48\n",
            "6 x 9 = 54\n",
            "6 x 10 = 60\n",
            "\n",
            "7 x 1 = 7\n",
            "7 x 2 = 14\n",
            "7 x 3 = 21\n",
            "7 x 4 = 28\n",
            "7 x 5 = 35\n",
            "7 x 6 = 42\n",
            "7 x 7 = 49\n",
            "7 x 8 = 56\n",
            "7 x 9 = 63\n",
            "7 x 10 = 70\n",
            "\n"
          ]
        }
      ]
    },
    {
      "cell_type": "markdown",
      "source": [
        "###18. Faça um programa para o curso de ADS (6 módulos), cada sala tem 30 alunos, calcule e apresente os seguintes itens:\n",
        "*  Quantidade de homens e mulheres de cada módulo;\n",
        "*  Média de idades de cada módulo;\n",
        "*  Quantidade de homens e mulheres do curso todo;\n",
        "*  Média de idades do curso todo.\n",
        "\n",
        "Observação: este exercício utiliza DUAS estruturas de repetição."
      ],
      "metadata": {
        "id": "wu3gKhw_P-t2"
      }
    },
    {
      "cell_type": "code",
      "source": [
        "contPessoas = 0\n",
        "contHomensTotal = 0\n",
        "contMulheresTotal = 0\n",
        "totalidade = 0\n",
        "for modulo in range(1,7):\n",
        "    print(modulo,'° módulo','.' * 50)\n",
        "    contFem = 0\n",
        "    contMas = 0\n",
        "    somaidades = 0\n",
        "    contPessoas = 0\n",
        "    for alunos in range(1,6):\n",
        "        genero = input('Insira o seu genero: ')\n",
        "        idade = int(input('Insira a sua idade: '))\n",
        "        contPessoas += 1\n",
        "        if genero == 'F' or genero == 'f':    \n",
        "            contFem += 1\n",
        "        if genero == 'M' or genero == 'm':\n",
        "            contMas += 1\n",
        "        somaidades += idade\n",
        "    mediaidade = somaidades / contPessoas\n",
        "    print('Quantidade de mulheres: ',contFem)\n",
        "    print('Quantidade de homem: ',contMas)\n",
        "    print('Media de idades: ',mediaidade)\n",
        "    contHomensTotal += contMas\n",
        "    contMulheresTotal += contFem\n",
        "    totalidade += mediaidade\n",
        "mediaidadestotal = totalidade / (contHomensTotal + contMulheresTotal)\n",
        "print('Quantidade total de Homens: ',contHomensTotal)\n",
        "print('Quantidade total de mulheres: ',contMulheresTotal)\n",
        "print('Media de idades total: ',mediaidadestotal)\n",
        "\n",
        "\n",
        "    \n",
        "\n",
        "       \n",
        "        "
      ],
      "metadata": {
        "colab": {
          "base_uri": "https://localhost:8080/"
        },
        "id": "o6KwJ9mjdQTg",
        "outputId": "71e52a62-7eb0-457f-b5d5-860f5e689392"
      },
      "execution_count": null,
      "outputs": [
        {
          "output_type": "stream",
          "name": "stdout",
          "text": [
            "1 ° módulo ..................................................\n",
            "Insira o seu genero: f\n",
            "Insira a sua idade: 20\n",
            "Insira o seu genero: m\n",
            "Insira a sua idade: 33\n",
            "Insira o seu genero: m\n",
            "Insira a sua idade: 23\n",
            "Insira o seu genero: m\n",
            "Insira a sua idade: 18\n",
            "Insira o seu genero: f\n",
            "Insira a sua idade: 19\n",
            "Quantidade de mulheres:  2\n",
            "Quantidade de homem:  3\n",
            "Media de idades:  22.6\n",
            "2 ° módulo ..................................................\n",
            "Insira o seu genero: f\n",
            "Insira a sua idade: 21\n",
            "Insira o seu genero: m\n",
            "Insira a sua idade: 22\n",
            "Insira o seu genero: m\n",
            "Insira a sua idade: 34\n",
            "Insira o seu genero: f\n",
            "Insira a sua idade: 17\n",
            "Insira o seu genero: m\n",
            "Insira a sua idade: 18\n",
            "Quantidade de mulheres:  2\n",
            "Quantidade de homem:  3\n",
            "Media de idades:  22.4\n",
            "3 ° módulo ..................................................\n",
            "Insira o seu genero: m\n",
            "Insira a sua idade: 17\n",
            "Insira o seu genero: f\n",
            "Insira a sua idade: 19\n",
            "Insira o seu genero: m\n",
            "Insira a sua idade: 20\n",
            "Insira o seu genero: f\n",
            "Insira a sua idade: 23\n",
            "Insira o seu genero: f\n",
            "Insira a sua idade: 19\n",
            "Quantidade de mulheres:  3\n",
            "Quantidade de homem:  2\n",
            "Media de idades:  19.6\n",
            "4 ° módulo ..................................................\n",
            "Insira o seu genero: m\n",
            "Insira a sua idade: 23\n",
            "Insira o seu genero: f\n",
            "Insira a sua idade: 22\n",
            "Insira o seu genero: m\n",
            "Insira a sua idade: 38\n",
            "Insira o seu genero: f\n",
            "Insira a sua idade: 25\n",
            "Insira o seu genero: m\n",
            "Insira a sua idade: 28\n",
            "Quantidade de mulheres:  2\n",
            "Quantidade de homem:  3\n",
            "Media de idades:  27.2\n",
            "5 ° módulo ..................................................\n",
            "Insira o seu genero: f\n",
            "Insira a sua idade: 30\n",
            "Insira o seu genero: m\n",
            "Insira a sua idade: 32\n",
            "Insira o seu genero: m\n",
            "Insira a sua idade: 30\n",
            "Insira o seu genero: m\n",
            "Insira a sua idade: 24\n",
            "Insira o seu genero: f\n",
            "Insira a sua idade: 30\n",
            "Quantidade de mulheres:  2\n",
            "Quantidade de homem:  3\n",
            "Media de idades:  29.2\n",
            "6 ° módulo ..................................................\n",
            "Insira o seu genero: f\n",
            "Insira a sua idade: 23\n",
            "Insira o seu genero: m\n",
            "Insira a sua idade: 26\n",
            "Insira o seu genero: m\n",
            "Insira a sua idade: 25\n",
            "Insira o seu genero: m\n",
            "Insira a sua idade: 27\n",
            "Insira o seu genero: f\n",
            "Insira a sua idade: 34\n",
            "Quantidade de mulheres:  2\n",
            "Quantidade de homem:  3\n",
            "Media de idades:  27.0\n",
            "Quantidade total de Homens:  17\n",
            "Quantidade total de mulheres:  13\n",
            "Media de idades total:  4.933333333333334\n"
          ]
        }
      ]
    }
  ]
}